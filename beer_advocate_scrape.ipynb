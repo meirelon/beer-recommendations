{
 "cells": [
  {
   "cell_type": "code",
   "execution_count": 1,
   "metadata": {
    "collapsed": true
   },
   "outputs": [],
   "source": [
    "from os import path\n",
    "from datetime import datetime\n",
    "import string\n",
    "import re\n",
    "import warnings\n",
    "warnings.filterwarnings('ignore')\n",
    "import urllib.request\n",
    "from itertools import compress\n",
    "import time\n",
    "import random\n",
    "\n",
    "import lxml.html as LH\n",
    "import requests\n",
    "from bs4 import BeautifulSoup as bs\n",
    "\n",
    "import numpy as np\n",
    "import pandas as pd\n",
    "from scipy.spatial.distance import cdist\n",
    "\n",
    "def splitDftoDict(df, split_col):\n",
    "    dict_to_return = {}\n",
    "    for element in df[split_col].unique():\n",
    "        dict_to_return[element] = df[df[split_col]==element]\n",
    "    return dict_to_return"
   ]
  },
  {
   "cell_type": "code",
   "execution_count": 2,
   "metadata": {
    "collapsed": true
   },
   "outputs": [],
   "source": [
    "url = \"https://www.beeradvocate.com/beer/styles/\"\n",
    "r = requests.get(url)\n",
    "all_tags = bs(r.content, \"html.parser\")"
   ]
  },
  {
   "cell_type": "code",
   "execution_count": 3,
   "metadata": {
    "collapsed": false
   },
   "outputs": [],
   "source": [
    "beer_style_links = [x.get('href') for x in all_tags.findAll('a', attrs={'href': re.compile(\"/beer/styles/\\d{1,}/\")})]\n",
    "beer_style_names = [x.text for x in all_tags.findAll('a', attrs={'href': re.compile(\"/beer/styles/\\d{1,}/\")})]"
   ]
  },
  {
   "cell_type": "code",
   "execution_count": 7,
   "metadata": {
    "collapsed": false
   },
   "outputs": [],
   "source": [
    "def get_beer_style_info(beer_style, beer_link, page=0):\n",
    "    print(beer_style, end=' ')\n",
    "    time.sleep(abs(random.normalvariate(2,0.5)))\n",
    "    beer_style_url = \"https://www.beeradvocate.com{beer_style}?sort=revsD&start={page}\".format(beer_style=beer_link, page=0)\n",
    "    r = requests.get(beer_style_url)\n",
    "    all_tags = bs(r.content, \"html.parser\")\n",
    "    \n",
    "    beer_links = [x.get('href') for x in all_tags.findAll('a', attrs={'href': re.compile(\"/beer/profile/\\d{1,}/\")})][::2]\n",
    "    tbl = [x.text.strip() for x in all_tags.findAll('td', attrs={'class' : re.compile(\"hr_bottom_light\")})]\n",
    "    beers = tbl[::6]\n",
    "    brewery = tbl[1:][::6]\n",
    "    abv = tbl[2:][::6]\n",
    "    ratings = [x.replace(\",\", \"\") for x in tbl[3:][::6]]\n",
    "    score = tbl[4:][::6]\n",
    "    beer_style_name = [beer_style] * len(beers)\n",
    "    beer_style_name_clean = [re.sub(string=beer_style, \n",
    "                                    pattern=\"[(]|[)]\", \n",
    "                                    repl=\"\").strip().replace(\" / \", \"_\").replace(\" \", \"_\").lower().strip()] * len(beers)\n",
    "    \n",
    "    df = pd.DataFrame.from_dict({\"beer\":beers,\n",
    "                   \"brewery\":brewery, \n",
    "                   \"abv\":abv, \n",
    "                   \"ratings\":ratings, \n",
    "                   \"score\":score,\n",
    "                   \"link\" : beer_links,\n",
    "                   \"beer_style\" : beer_style_name,\n",
    "                   \"beer_style_clean\" : beer_style_name_clean})\n",
    "    return df"
   ]
  },
  {
   "cell_type": "code",
   "execution_count": 8,
   "metadata": {
    "collapsed": false
   },
   "outputs": [
    {
     "name": "stdout",
     "output_type": "stream",
     "text": [
      "German Bock German Doppelbock German Eisbock German Maibock German Weizenbock American Brown Ale English Brown Ale English Dark Mild Ale German Altbier American Black Ale Belgian Dark Ale Belgian Dubbel German Roggenbier Scottish Ale Winter Warmer American Amber / Red Lager European Dark Lager German Märzen / Oktoberfest German Rauchbier German Schwarzbier Munich Dunkel Lager Vienna Lager American Cream Ale Bière de Champagne / Bière Brut Braggot California Common / Steam Beer American Brut IPA American Imperial IPA American IPA Belgian IPA English India Pale Ale (IPA) New England IPA American Amber / Red Ale American Blonde Ale American Pale Ale (APA) Belgian Blonde Ale  Belgian Pale Ale Belgian Saison English Bitter English Extra Special / Strong Bitter (ESB) English Pale Ale English Pale Mild Ale French Bière de Garde German Kölsch Irish Red Ale American Adjunct Lager American Imperial Pilsner American Lager American Light Lager American Malt Liquor Bohemian Pilsener European Export / Dortmunder European Pale Lager European Strong Lager German Helles German Kellerbier / Zwickelbier German Pilsner American Imperial Porter American Porter Baltic Porter English Porter Robust Porter  Smoke Porter Chile Beer Finnish Sahti Fruit and Field Beer Herb and Spice Beer Japanese Happoshu Japanese Rice Lager Low Alcohol Beer Pumpkin Beer Russian Kvass Rye Beer Scottish Gruit / Ancient Herbed Ale Smoke Beer American Imperial Stout American Stout English Oatmeal Stout English Stout English Sweet / Milk Stout Foreign / Export Stout Irish Dry Stout Russian Imperial Stout American Barleywine American Imperial Red Ale American Strong Ale American Wheatwine Ale Belgian Quadrupel (Quad) Belgian Strong Dark Ale Belgian Strong Pale Ale Belgian Tripel British Barleywine English Old Ale English Strong Ale Scotch Ale / Wee Heavy American Dark Wheat Ale American Pale Wheat Ale Belgian Witbier Berliner Weisse German Dunkelweizen German Hefeweizen German Kristalweizen American Brett American Wild Ale Belgian Faro Belgian Fruit Lambic Belgian Gueuze Belgian Lambic Flanders Oud Bruin Flanders Red Ale Leipzig Gose "
     ]
    }
   ],
   "source": [
    "beer_style_info_lists = [get_beer_style_info(n, l) for n,l in zip(beer_style_names, beer_style_links)]\n",
    "beer_df = pd.concat(beer_style_info_lists, axis=0)"
   ]
  },
  {
   "cell_type": "code",
   "execution_count": 9,
   "metadata": {
    "collapsed": false
   },
   "outputs": [],
   "source": [
    "beer_df.to_gbq(project_id='scarlet-labs', destination_table=\"beer.beer_info_master_table\", if_exists=\"replace\", verbose=False)"
   ]
  },
  {
   "cell_type": "code",
   "execution_count": 2,
   "metadata": {
    "collapsed": false
   },
   "outputs": [
    {
     "name": "stdout",
     "output_type": "stream",
     "text": [
      "Requesting query... ok.\n",
      "Query running...\n",
      "Query done.\n",
      "Cache hit.\n",
      "\n",
      "Retrieving results...\n",
      "Got 5516 rows.\n",
      "\n",
      "Total time taken 1.34 s.\n",
      "Finished at 2018-12-11 21:45:52.\n"
     ]
    }
   ],
   "source": [
    "beer_df = pd.read_gbq(project_id='scarlet-labs', \n",
    "                      query=\"select * from `scarlet-labs.beer.beer_info_master_table` order by ratings desc\", \n",
    "                      dialect='standard')"
   ]
  },
  {
   "cell_type": "code",
   "execution_count": 3,
   "metadata": {
    "collapsed": false
   },
   "outputs": [
    {
     "data": {
      "text/html": [
       "<div>\n",
       "<table border=\"1\" class=\"dataframe\">\n",
       "  <thead>\n",
       "    <tr style=\"text-align: right;\">\n",
       "      <th></th>\n",
       "      <th>abv</th>\n",
       "      <th>beer</th>\n",
       "      <th>beer_style</th>\n",
       "      <th>brewery</th>\n",
       "      <th>link</th>\n",
       "      <th>ratings</th>\n",
       "      <th>score</th>\n",
       "    </tr>\n",
       "  </thead>\n",
       "  <tbody>\n",
       "    <tr>\n",
       "      <th>0</th>\n",
       "      <td>6.70</td>\n",
       "      <td>Hazy Little Thing IPA</td>\n",
       "      <td>New England IPA</td>\n",
       "      <td>Sierra Nevada Brewing Co.</td>\n",
       "      <td>/beer/profile/140/317146/</td>\n",
       "      <td>999</td>\n",
       "      <td>3.97</td>\n",
       "    </tr>\n",
       "    <tr>\n",
       "      <th>1</th>\n",
       "      <td>5.20</td>\n",
       "      <td>Karma Belgian Style Pale Ale</td>\n",
       "      <td>Belgian Pale Ale</td>\n",
       "      <td>Avery Brewing Company</td>\n",
       "      <td>/beer/profile/30/23042/</td>\n",
       "      <td>997</td>\n",
       "      <td>3.4</td>\n",
       "    </tr>\n",
       "    <tr>\n",
       "      <th>2</th>\n",
       "      <td>5.10</td>\n",
       "      <td>Tire Bite Golden Ale</td>\n",
       "      <td>American Blonde Ale</td>\n",
       "      <td>Flying Dog Brewery</td>\n",
       "      <td>/beer/profile/68/2151/</td>\n",
       "      <td>997</td>\n",
       "      <td>3</td>\n",
       "    </tr>\n",
       "    <tr>\n",
       "      <th>3</th>\n",
       "      <td>7.50</td>\n",
       "      <td>Agnus Dei (Abbey Pale Ale)</td>\n",
       "      <td>Belgian Tripel</td>\n",
       "      <td>Brouwerij Corsendonk</td>\n",
       "      <td>/beer/profile/41/139/</td>\n",
       "      <td>996</td>\n",
       "      <td>3.97</td>\n",
       "    </tr>\n",
       "    <tr>\n",
       "      <th>4</th>\n",
       "      <td>4.70</td>\n",
       "      <td>Sea Dog Blueberry Wheat Ale</td>\n",
       "      <td>Fruit and Field Beer</td>\n",
       "      <td>Sea Dog Brewing Company</td>\n",
       "      <td>/beer/profile/137/345/</td>\n",
       "      <td>996</td>\n",
       "      <td>3.44</td>\n",
       "    </tr>\n",
       "  </tbody>\n",
       "</table>\n",
       "</div>"
      ],
      "text/plain": [
       "    abv                          beer            beer_style  \\\n",
       "0  6.70         Hazy Little Thing IPA       New England IPA   \n",
       "1  5.20  Karma Belgian Style Pale Ale      Belgian Pale Ale   \n",
       "2  5.10          Tire Bite Golden Ale   American Blonde Ale   \n",
       "3  7.50    Agnus Dei (Abbey Pale Ale)        Belgian Tripel   \n",
       "4  4.70   Sea Dog Blueberry Wheat Ale  Fruit and Field Beer   \n",
       "\n",
       "                     brewery                       link ratings score  \n",
       "0  Sierra Nevada Brewing Co.  /beer/profile/140/317146/     999  3.97  \n",
       "1      Avery Brewing Company    /beer/profile/30/23042/     997   3.4  \n",
       "2         Flying Dog Brewery     /beer/profile/68/2151/     997     3  \n",
       "3       Brouwerij Corsendonk      /beer/profile/41/139/     996  3.97  \n",
       "4    Sea Dog Brewing Company     /beer/profile/137/345/     996  3.44  "
      ]
     },
     "execution_count": 3,
     "metadata": {},
     "output_type": "execute_result"
    }
   ],
   "source": [
    "beer_df.head()"
   ]
  },
  {
   "cell_type": "code",
   "execution_count": 4,
   "metadata": {
    "collapsed": true
   },
   "outputs": [],
   "source": [
    "def get_beer_vector(beer_link, ratings):\n",
    "    total_pages = min([12, round(int(ratings)/25)-1])\n",
    "    df_list = []\n",
    "    for page in range(0,total_pages):\n",
    "        time.sleep(abs(random.normalvariate(1,0.25)))\n",
    "        url = \"https://www.beeradvocate.com{beer_link}?view=beer&sort=&start={page}\".format(beer_link=beer_link, page=page)\n",
    "        r = requests.get(url)\n",
    "        all_tags = bs(r.content, \"html.parser\")\n",
    "        taste_list = [x for i,x in enumerate([x.text.strip() \n",
    "                                   for x in all_tags.findAll('span', attrs={'class' : re.compile(\"muted\")})]) \n",
    "           if re.search(pattern=\"[|]\", string=x)]\n",
    "        \n",
    "        df_page = pd.DataFrame([[float(x.split(\":\")[1]) for x in vector.split(\"|\")] \n",
    "                       for vector in taste_list], columns=[\"look\", \"smell\", \"taste\", \"feel\", \"overall\"])\n",
    "        df_list.append(df_page)\n",
    "        page += 25\n",
    "    \n",
    "    vectors_to_matrix = pd.concat(df_list, axis=0)\n",
    "    beer_vector = vectors_to_matrix.mean().to_frame().transpose()\n",
    "    \n",
    "    beer_vector['records'] = vectors_to_matrix.shape[0]\n",
    "    beer_vector['link'] = beer_link\n",
    "    \n",
    "    return beer_vector"
   ]
  },
  {
   "cell_type": "code",
   "execution_count": 21,
   "metadata": {
    "collapsed": false
   },
   "outputs": [],
   "source": [
    "beer_style_dict = splitDftoDict(df=beer_df, split_col=\"beer_style\")"
   ]
  },
  {
   "cell_type": "code",
   "execution_count": 23,
   "metadata": {
    "collapsed": true
   },
   "outputs": [],
   "source": [
    "def get_beer_style_recommendations(df):\n",
    "    beer_vector_list = [get_beer_vector(beer_link=x, ratings=y) for x,y in df[['link', 'ratings']].values.tolist()]\n",
    "    beer_vector_df = pd.concat(beer_vector_list, axis=0)\n",
    "    \n",
    "    a = beer_vector_df[[\"look\", \"smell\", \"taste\", \"feel\", \"overall\", \"records\"]]\n",
    "    d = pd.DataFrame(cdist(a, a), columns=beer_vector_df['link'])\n",
    "    d_ranked = d.rank(axis=1).transpose()\n",
    "    rec_df = pd.DataFrame([{\"link\":d_ranked.index[d_ranked.iloc[:,col] == 1].values[0], \n",
    "                   \"recommendations\":list(d_ranked.index[(d_ranked.iloc[:,col] > 1) & (d_ranked.iloc[:,col] < 5)].values)} \n",
    "     for col in list(range(len(d.columns)))])\n",
    "\n",
    "    rec_df_wide = rec_df.recommendations.apply(pd.Series).merge(rec_df, left_index=True, right_index=True).drop([\"recommendations\"], axis=1)\n",
    "    rec_df_wide.columns = [\"rec1\", \"rec2\", \"rec3\", \"link\"]\n",
    "    return rec_df_wide"
   ]
  },
  {
   "cell_type": "code",
   "execution_count": 24,
   "metadata": {
    "collapsed": true
   },
   "outputs": [],
   "source": [
    "tmp_df = get_beer_style_recommendations(beer_style_dict['American Barleywine'])"
   ]
  },
  {
   "cell_type": "code",
   "execution_count": 5,
   "metadata": {
    "collapsed": false
   },
   "outputs": [],
   "source": [
    "beer_vector_list = [get_beer_vector(beer_link=x, ratings=y) for x,y in beer_df[['link', 'ratings']].iloc[0:10,:].values.tolist()]"
   ]
  },
  {
   "cell_type": "code",
   "execution_count": 6,
   "metadata": {
    "collapsed": false
   },
   "outputs": [],
   "source": [
    "beer_vector_df = pd.concat(beer_vector_list, axis=0)"
   ]
  },
  {
   "cell_type": "code",
   "execution_count": 7,
   "metadata": {
    "collapsed": false
   },
   "outputs": [],
   "source": [
    "a = beer_vector_df[[\"look\", \"smell\", \"taste\", \"feel\", \"overall\", \"records\"]]\n",
    "d = pd.DataFrame(cdist(a, a), columns=beer_vector_df['link'])\n",
    "d_ranked = d.rank(axis=1).transpose()\n",
    "rec_df = pd.DataFrame([{\"link\":d_ranked.index[d_ranked.iloc[:,col] == 1].values[0], \n",
    "               \"recommendations\":list(d_ranked.index[(d_ranked.iloc[:,col] > 1) & (d_ranked.iloc[:,col] < 5)].values)} \n",
    " for col in list(range(len(d.columns)))])\n",
    "\n",
    "rec_df_wide = rec_df.recommendations.apply(pd.Series).merge(rec_df, left_index=True, right_index=True).drop([\"recommendations\"], axis=1)\n",
    "rec_df_wide.columns = [\"rec1\", \"rec2\", \"rec3\", \"link\"]"
   ]
  },
  {
   "cell_type": "code",
   "execution_count": 11,
   "metadata": {
    "collapsed": false
   },
   "outputs": [],
   "source": [
    "rec_df_wide.to_gbq(project_id='scarlet-labs', destination_table=\"beer.beer_recommendations\", if_exists=\"replace\", verbose=False)"
   ]
  },
  {
   "cell_type": "code",
   "execution_count": null,
   "metadata": {
    "collapsed": true
   },
   "outputs": [],
   "source": []
  }
 ],
 "metadata": {
  "kernelspec": {
   "display_name": "Python 3",
   "language": "python",
   "name": "python3"
  },
  "language_info": {
   "codemirror_mode": {
    "name": "ipython",
    "version": 3
   },
   "file_extension": ".py",
   "mimetype": "text/x-python",
   "name": "python",
   "nbconvert_exporter": "python",
   "pygments_lexer": "ipython3",
   "version": "3.6.0"
  }
 },
 "nbformat": 4,
 "nbformat_minor": 2
}
