{
 "cells": [
  {
   "cell_type": "code",
   "execution_count": 1,
   "metadata": {
    "collapsed": true
   },
   "outputs": [],
   "source": [
    "import pandas as pd\n",
    "from utils import get_beer_vector, get_beer_style_recommendations, splitDftoDict"
   ]
  },
  {
   "cell_type": "code",
   "execution_count": 53,
   "metadata": {
    "collapsed": false
   },
   "outputs": [
    {
     "name": "stdout",
     "output_type": "stream",
     "text": [
      "Requesting query... ok.\n",
      "Query running...\n",
      "Query done.\n",
      "Processed: 739.1 kb\n",
      "\n",
      "Retrieving results...\n",
      "Got 5517 rows.\n",
      "\n",
      "Total time taken 2.61 s.\n",
      "Finished at 2018-12-12 16:18:26.\n"
     ]
    }
   ],
   "source": [
    "beer_df = pd.read_gbq(project_id='scarlet-labs',\n",
    "                      query=\"select * from `scarlet-labs.beer.beer_info_master_table` order by ratings desc\",\n",
    "                      dialect='standard')"
   ]
  },
  {
   "cell_type": "code",
   "execution_count": 43,
   "metadata": {
    "collapsed": false
   },
   "outputs": [],
   "source": [
    "import re\n",
    "beer_style_clean = [re.sub(string=x, pattern=\"[(]|[)]\", repl=\"\").strip().replace(\" / \", \"_\").replace(\" \", \"_\").lower().strip() for x in sorted(beer_df['beer_style'].unique())]\n",
    "beer_style_clean_df = pd.DataFrame({\"beer_style\":sorted(beer_df['beer_style'].unique()), \"beer_style_clean\":beer_style_clean}).set_index(\"beer_style\")"
   ]
  },
  {
   "cell_type": "code",
   "execution_count": 48,
   "metadata": {
    "collapsed": false
   },
   "outputs": [],
   "source": [
    "#beer_df.set_index(\"beer_style\").join(beer_style_clean_df).reset_index().to_gbq(project_id=\"scarlet-labs\", destination_table=\"beer.beer_info_master_table2\", if_exists=\"replace\", verbose=False)"
   ]
  },
  {
   "cell_type": "code",
   "execution_count": null,
   "metadata": {
    "collapsed": true
   },
   "outputs": [],
   "source": [
    "#beer_df.to_gbq(project_id=\"scarlet-labs\", destination_table=\"beer.beer_info_master_table\", if_exists=\"replace\", verbose=False)"
   ]
  },
  {
   "cell_type": "code",
   "execution_count": 54,
   "metadata": {
    "collapsed": true
   },
   "outputs": [],
   "source": [
    "beer_style_dict = splitDftoDict(df=beer_df, split_col=\"beer_style_clean\")"
   ]
  },
  {
   "cell_type": "code",
   "execution_count": null,
   "metadata": {
    "collapsed": true
   },
   "outputs": [],
   "source": [
    "recs_df = pd.DataFrame()\n",
    "for style in beer_df['beer_style_clean'].unique():\n",
    "        print(style)\n",
    "        recs = get_beer_style_recommendations(beer_style_dict[style])\n",
    "        try:\n",
    "            recs_df = pd.concat([recs_df, recs], axis=0, ignore_index=True)\n",
    "        except:\n",
    "            next\n",
    "recs_df.to_gbq(project_id='scarlet-labs',\n",
    "                        destination_table=\"beer.recommendations_raw\",\n",
    "                        if_exists=\"replace\",\n",
    "                        chunksize=200,\n",
    "                        verbose=False)"
   ]
  },
  {
   "cell_type": "code",
   "execution_count": 60,
   "metadata": {
    "collapsed": false
   },
   "outputs": [],
   "source": [
    "recs_df.to_csv(\"test.csv\", index=False)"
   ]
  },
  {
   "cell_type": "code",
   "execution_count": null,
   "metadata": {
    "collapsed": true
   },
   "outputs": [],
   "source": []
  }
 ],
 "metadata": {
  "kernelspec": {
   "display_name": "Python 3",
   "language": "python",
   "name": "python3"
  },
  "language_info": {
   "codemirror_mode": {
    "name": "ipython",
    "version": 3
   },
   "file_extension": ".py",
   "mimetype": "text/x-python",
   "name": "python",
   "nbconvert_exporter": "python",
   "pygments_lexer": "ipython3",
   "version": "3.6.0"
  }
 },
 "nbformat": 4,
 "nbformat_minor": 2
}
